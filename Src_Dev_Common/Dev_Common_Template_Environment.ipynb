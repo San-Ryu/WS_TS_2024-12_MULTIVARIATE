{
 "cells": [
  {
   "cell_type": "markdown",
   "id": "715e1ae3",
   "metadata": {},
   "source": [
    "### Code Hist."
   ]
  },
  {
   "cell_type": "markdown",
   "id": "6beeaff0",
   "metadata": {},
   "source": [
    " - CODE  \n",
    "    &ensp; : 전처리 - KIER Data\n",
    "  - DATE  \n",
    "    &ensp; 2023-11-21 Created  \n",
    " - DESC  \n",
    "    &ensp; : 다른 개발 Code로부터 00. Environmet 부분을 제거,  \n",
    "    &emsp; Code를 간략화하기 위함"
   ]
  },
  {
   "cell_type": "markdown",
   "id": "0eb07741",
   "metadata": {},
   "source": [
    "## 00. Environment  \n",
    "- Module Install / Device / GPU"
   ]
  },
  {
   "cell_type": "markdown",
   "id": "298b86ad",
   "metadata": {},
   "source": [
    "#### 00-01. Module Install (PIP)"
   ]
  },
  {
   "cell_type": "code",
   "execution_count": 1,
   "id": "8e718b1b",
   "metadata": {},
   "outputs": [],
   "source": [
    "## ▶ For Environment\n",
    "## ▶ [필요시에만] Anaconda 필수 Module \n",
    "# !conda update conda\n",
    "# !conda update --all\n",
    "\n",
    "# !python -m pip install --upgrade pip\n",
    "\n",
    "## ▶ 개발환경 Freeze\n",
    "# !pip freeze"
   ]
  },
  {
   "cell_type": "code",
   "execution_count": 2,
   "id": "6bcba406",
   "metadata": {},
   "outputs": [],
   "source": [
    "## ▶ For Dev\n",
    "## ▶ (필요시 설치 가능) Protobuf (관련 오류가 날 경우에 사용했음)\n",
    "## https://velog.io/@alvinlee9/ImportError-cannot-import-name-builder-from-google.protobuf.internal\n",
    "# !pip install --upgrade protobuf\n",
    "# !pip install protobuf==3.19.4\n",
    "# from google.protobuf.internal import builder as _builder\n",
    "# from google.protobuf import descriptor as _descriptor\n",
    "# from google.protobuf import descriptor_pool as _descriptor_pool\n",
    "\n",
    "## ▶ Python 기본 Module\n",
    "# !pip install numpy\n",
    "\n",
    "## ▶ (필요시 설치 가능) Python Optional Module\n",
    "# !pip install --upgrade category_encoders\n",
    "# !pip install gdown\n",
    "# !pip install kaggle\n",
    "# !pip install lightgbm\n",
    "\n",
    "## ▶ (필요시 설치 가능) For TCN \n",
    "# !pip uninstall tensorflow\n",
    "# !pip install tensorflow==2.9.1\n",
    "# !pip install tensorflow-gpu==2.10.0\n",
    "## TCN 관련 Module\n",
    "# !pip install tqdm\n",
    "# !pip install feature-engine\n",
    "# !pip install tensorflow-addons\n",
    "## KerasTCN 라이브러리 (미사용)\n",
    "# !pip install keras-tcn --user\n",
    "# !pip install keras-tcn --no-dependencies  # without the dependencies if you already have TF/Numpy.\n",
    "# !pip install tcn \n",
    "\n"
   ]
  },
  {
   "cell_type": "code",
   "execution_count": 3,
   "id": "48afd5c2",
   "metadata": {},
   "outputs": [],
   "source": [
    "## Excel To Pandas DF\n",
    "# !pip install openpyxl\n",
    "# !pip install openpyxl --upgrade\n",
    "# !pip install xlrd"
   ]
  },
  {
   "cell_type": "markdown",
   "id": "bdcfc3fe",
   "metadata": {},
   "source": [
    "#### 00-02-01. Device Check (GPU)"
   ]
  },
  {
   "cell_type": "code",
   "execution_count": 4,
   "id": "5021c364",
   "metadata": {},
   "outputs": [
    {
     "name": "stdout",
     "output_type": "stream",
     "text": [
      "Thu Oct 19 04:28:45 2023       \n",
      "+-----------------------------------------------------------------------------+\n",
      "| NVIDIA-SMI 460.89       Driver Version: 460.89       CUDA Version: 11.2     |\n",
      "|-------------------------------+----------------------+----------------------+\n",
      "| GPU  Name            TCC/WDDM | Bus-Id        Disp.A | Volatile Uncorr. ECC |\n",
      "| Fan  Temp  Perf  Pwr:Usage/Cap|         Memory-Usage | GPU-Util  Compute M. |\n",
      "|                               |                      |               MIG M. |\n",
      "|===============================+======================+======================|\n",
      "|   0  GeForce RTX 207... WDDM  | 00000000:01:00.0  On |                  N/A |\n",
      "| 22%   29C    P8     8W / 215W |   7951MiB /  8192MiB |      0%      Default |\n",
      "|                               |                      |                  N/A |\n",
      "+-------------------------------+----------------------+----------------------+\n",
      "                                                                               \n",
      "+-----------------------------------------------------------------------------+\n",
      "| Processes:                                                                  |\n",
      "|  GPU   GI   CI        PID   Type   Process name                  GPU Memory |\n",
      "|        ID   ID                                                   Usage      |\n",
      "|=============================================================================|\n",
      "|    0   N/A  N/A      1092    C+G   Insufficient Permissions        N/A      |\n",
      "|    0   N/A  N/A      1136    C+G   ...y\\ShellExperienceHost.exe    N/A      |\n",
      "|    0   N/A  N/A      1996    C+G   ...oft OneDrive\\OneDrive.exe    N/A      |\n",
      "|    0   N/A  N/A      2200      C   ...a3\\envs\\dev-ts\\python.exe    N/A      |\n",
      "|    0   N/A  N/A      4944    C+G   C:\\Windows\\explorer.exe         N/A      |\n",
      "|    0   N/A  N/A      6412    C+G   ...2txyewy\\TextInputHost.exe    N/A      |\n",
      "|    0   N/A  N/A      6508    C+G   ...8bbwe\\Microsoft.Notes.exe    N/A      |\n",
      "|    0   N/A  N/A      6772      C   ...a3\\envs\\dev-ts\\python.exe    N/A      |\n",
      "|    0   N/A  N/A      7524      C   ...a3\\envs\\dev-ts\\python.exe    N/A      |\n",
      "|    0   N/A  N/A      8340    C+G   ...5n1h2txyewy\\SearchApp.exe    N/A      |\n",
      "|    0   N/A  N/A      8528    C+G   ...cw5n1h2txyewy\\LockApp.exe    N/A      |\n",
      "|    0   N/A  N/A     10336    C+G   ...icrosoft VS Code\\Code.exe    N/A      |\n",
      "|    0   N/A  N/A     11856    C+G   ...artMenuExperienceHost.exe    N/A      |\n",
      "|    0   N/A  N/A     12900    C+G   ...icrosoft.Media.Player.exe    N/A      |\n",
      "|    0   N/A  N/A     14464    C+G   ...ge\\Application\\msedge.exe    N/A      |\n",
      "|    0   N/A  N/A     15848    C+G   ...e\\PhoneExperienceHost.exe    N/A      |\n",
      "|    0   N/A  N/A     16464    C+G   ...me\\Application\\chrome.exe    N/A      |\n",
      "+-----------------------------------------------------------------------------+\n"
     ]
    }
   ],
   "source": [
    "!nvidia-smi"
   ]
  },
  {
   "cell_type": "code",
   "execution_count": 5,
   "id": "1ef25c7a",
   "metadata": {},
   "outputs": [
    {
     "name": "stdout",
     "output_type": "stream",
     "text": [
      "2.10.0\n",
      "[name: \"/device:CPU:0\"\n",
      "device_type: \"CPU\"\n",
      "memory_limit: 268435456\n",
      "locality {\n",
      "}\n",
      "incarnation: 10580056079616110725\n",
      "xla_global_id: -1\n",
      ", name: \"/device:GPU:0\"\n",
      "device_type: \"GPU\"\n",
      "memory_limit: 1089811796\n",
      "locality {\n",
      "  bus_id: 1\n",
      "  links {\n",
      "  }\n",
      "}\n",
      "incarnation: 4044723752171075483\n",
      "physical_device_desc: \"device: 0, name: GeForce RTX 2070 SUPER, pci bus id: 0000:01:00.0, compute capability: 7.5\"\n",
      "xla_global_id: 416903419\n",
      "]\n",
      "[PhysicalDevice(name='/physical_device:GPU:0', device_type='GPU')]\n",
      "WARNING:tensorflow:From C:\\Users\\SJU_CVPR\\AppData\\Local\\Temp\\ipykernel_11808\\32622124.py:8: is_gpu_available (from tensorflow.python.framework.test_util) is deprecated and will be removed in a future version.\n",
      "Instructions for updating:\n",
      "Use `tf.config.list_physical_devices('GPU')` instead.\n",
      "[name: \"/device:CPU:0\"\n",
      "device_type: \"CPU\"\n",
      "memory_limit: 268435456\n",
      "locality {\n",
      "}\n",
      "incarnation: 330581956865148254\n",
      "xla_global_id: -1\n",
      ", name: \"/device:GPU:0\"\n",
      "device_type: \"GPU\"\n",
      "memory_limit: 1089811796\n",
      "locality {\n",
      "  bus_id: 1\n",
      "  links {\n",
      "  }\n",
      "}\n",
      "incarnation: 16633077420375828190\n",
      "physical_device_desc: \"device: 0, name: GeForce RTX 2070 SUPER, pci bus id: 0000:01:00.0, compute capability: 7.5\"\n",
      "xla_global_id: 416903419\n",
      "]\n"
     ]
    }
   ],
   "source": [
    "import tensorflow as tf\n",
    "from tensorflow.python.client import device_lib\n",
    "\n",
    "print(tf.__version__)\n",
    "\n",
    "print(device_lib.list_local_devices())\n",
    "print(tf.config.list_physical_devices('GPU'))\n",
    "tf.test.is_gpu_available()\n",
    "\n",
    "print(device_lib.list_local_devices())"
   ]
  },
  {
   "cell_type": "markdown",
   "id": "d9ba8fae",
   "metadata": {},
   "source": [
    "#### 00-02-02. Device Config (GPU 사용 설정)"
   ]
  },
  {
   "cell_type": "code",
   "execution_count": 6,
   "id": "697729dd",
   "metadata": {},
   "outputs": [],
   "source": [
    "import os\n",
    "os.environ[\"CUDA_VISIBLE_DEVICES\"] = \"0\"\n",
    "\n",
    "tf.debugging.set_log_device_placement(True)"
   ]
  },
  {
   "cell_type": "code",
   "execution_count": 7,
   "id": "5d68a9de",
   "metadata": {},
   "outputs": [
    {
     "name": "stdout",
     "output_type": "stream",
     "text": [
      "[PhysicalDevice(name='/physical_device:GPU:0', device_type='GPU')]\n"
     ]
    }
   ],
   "source": [
    "gpus = tf.config.list_physical_devices('GPU')\n",
    "print(gpus)\n",
    "if gpus:\n",
    "  try:\n",
    "    tf.config.experimental.set_memory_growth(gpus[0], True)\n",
    "  except RuntimeError as e:\n",
    "    # 프로그램 시작시에 메모리 증가가 설정되어야만 합니다\n",
    "    print(e)"
   ]
  },
  {
   "cell_type": "code",
   "execution_count": 8,
   "id": "c31b7a1d",
   "metadata": {},
   "outputs": [
    {
     "name": "stdout",
     "output_type": "stream",
     "text": [
      "Executing op MatMul in device /job:localhost/replica:0/task:0/device:GPU:0\n"
     ]
    },
    {
     "name": "stdout",
     "output_type": "stream",
     "text": [
      "tf.Tensor(\n",
      "[[22. 28.]\n",
      " [49. 64.]], shape=(2, 2), dtype=float32)\n"
     ]
    }
   ],
   "source": [
    "with tf.device('/CPU:0'):\n",
    "  a = tf.constant([[1.0, 2.0, 3.0], [4.0, 5.0, 6.0]])\n",
    "  b = tf.constant([[1.0, 2.0], [3.0, 4.0], [5.0, 6.0]])\n",
    "\n",
    "c = tf.matmul(a, b)\n",
    "print(c)"
   ]
  },
  {
   "cell_type": "code",
   "execution_count": null,
   "id": "2c8d04e0",
   "metadata": {},
   "outputs": [],
   "source": []
  },
  {
   "cell_type": "code",
   "execution_count": null,
   "id": "cdf894e2",
   "metadata": {},
   "outputs": [],
   "source": []
  },
  {
   "cell_type": "code",
   "execution_count": null,
   "id": "99d7d854",
   "metadata": {},
   "outputs": [],
   "source": []
  }
 ],
 "metadata": {
  "kernelspec": {
   "display_name": "Python 3 (ipykernel)",
   "language": "python",
   "name": "python3"
  },
  "language_info": {
   "codemirror_mode": {
    "name": "ipython",
    "version": 3
   },
   "file_extension": ".py",
   "mimetype": "text/x-python",
   "name": "python",
   "nbconvert_exporter": "python",
   "pygments_lexer": "ipython3",
   "version": "3.10.9"
  }
 },
 "nbformat": 4,
 "nbformat_minor": 5
}
