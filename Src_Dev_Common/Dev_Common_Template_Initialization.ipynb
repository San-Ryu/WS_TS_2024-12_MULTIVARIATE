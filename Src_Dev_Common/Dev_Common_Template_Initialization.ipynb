{
 "cells": [
  {
   "cell_type": "markdown",
   "id": "715e1ae3",
   "metadata": {},
   "source": [
    "### Code Hist."
   ]
  },
  {
   "cell_type": "markdown",
   "id": "6beeaff0",
   "metadata": {},
   "source": [
    " dev-shryu  \n",
    " \n",
    " - CODE  \n",
    "    &ensp; : Initialization - 코드 환경설정 및 Device(GPU), Module 설정\n",
    " - DATE  \n",
    "    &ensp; 2023-10-18 Created  \n",
    " - DESC  \n",
    "    &ensp; : Code 공통화 - 코드 초기설정(Env, Device, Module)\n",
    " - DATA  \n",
    "    &ensp;&ensp; <\"Input\">  \n",
    "    1) None  \n",
    "    &ensp;&ensp;- Period :   \n",
    "    &ensp;&ensp;- Interval : \n",
    "\n",
    "    &ensp;&ensp; <\"Output\">  \n",
    "    1) None  \n",
    "    &ensp;&ensp;- Period :   \n",
    "    &ensp;&ensp;- Interval : \n",
    " - Link  \n",
    "    1) ipynb 작성  \n",
    "    &nbsp; :  https://stackoverflow.com/questions/47061626/how-to-get-tab-space-in-markdown-cell-of-jupyter-notebook"
   ]
  },
  {
   "cell_type": "markdown",
   "id": "0eb07741",
   "metadata": {},
   "source": [
    "## 00. Environment  \n",
    "- Module Install / Device / GPU"
   ]
  },
  {
   "cell_type": "markdown",
   "id": "298b86ad",
   "metadata": {},
   "source": [
    "#### 00-01. Module Install (PIP)"
   ]
  },
  {
   "cell_type": "code",
   "execution_count": 1,
   "id": "8e718b1b",
   "metadata": {},
   "outputs": [],
   "source": [
    "## ▶ For Environment\n",
    "## ▶ [필요시에만] Anaconda 필수 Module \n",
    "# !conda update conda\n",
    "# !conda update --all\n",
    "\n",
    "# !python -m pip install --upgrade pip\n",
    "\n",
    "## ▶ 개발환경 Freeze\n",
    "# !pip freeze"
   ]
  },
  {
   "cell_type": "code",
   "execution_count": 2,
   "id": "6bcba406",
   "metadata": {},
   "outputs": [],
   "source": [
    "## ▶ For Dev\n",
    "## ▶ (필요시 설치 가능) Protobuf (관련 오류가 날 경우에 사용했음)\n",
    "## https://velog.io/@alvinlee9/ImportError-cannot-import-name-builder-from-google.protobuf.internal\n",
    "# !pip install --upgrade protobuf\n",
    "# !pip install protobuf==3.19.4\n",
    "# from google.protobuf.internal import builder as _builder\n",
    "# from google.protobuf import descriptor as _descriptor\n",
    "# from google.protobuf import descriptor_pool as _descriptor_pool\n",
    "\n",
    "## ▶ Python 기본 Module\n",
    "# !pip install numpy\n",
    "\n",
    "## ▶ (필요시 설치 가능) Python Optional Module\n",
    "# !pip install --upgrade category_encoders\n",
    "# !pip install gdown\n",
    "# !pip install kaggle\n",
    "# !pip install lightgbm\n",
    "\n",
    "## ▶ (필요시 설치 가능) For TCN \n",
    "# !pip uninstall tensorflow\n",
    "# !pip install tensorflow==2.9.1\n",
    "# !pip install tensorflow-gpu==2.10.0\n",
    "## TCN 관련 Module\n",
    "# !pip install tqdm\n",
    "# !pip install feature-engine\n",
    "# !pip install tensorflow-addons\n",
    "## KerasTCN 라이브러리 (미사용)\n",
    "# !pip install keras-tcn --user\n",
    "# !pip install keras-tcn --no-dependencies  # without the dependencies if you already have TF/Numpy.\n",
    "# !pip install tcn \n",
    "\n"
   ]
  },
  {
   "cell_type": "code",
   "execution_count": 3,
   "id": "48afd5c2",
   "metadata": {},
   "outputs": [],
   "source": [
    "## Excel To Pandas DF\n",
    "# !pip install openpyxl\n",
    "# !pip install openpyxl --upgrade\n",
    "# !pip install xlrd"
   ]
  },
  {
   "cell_type": "code",
   "execution_count": 4,
   "id": "ecaf4673",
   "metadata": {},
   "outputs": [],
   "source": [
    "##\n",
    "# !pip install selenium\n",
    "# !pip install seaborn\n",
    "# !pip install webdriver_manager"
   ]
  },
  {
   "cell_type": "markdown",
   "id": "bdcfc3fe",
   "metadata": {},
   "source": [
    "#### 00-02-01. Device Check (GPU)"
   ]
  },
  {
   "cell_type": "code",
   "execution_count": 5,
   "id": "5021c364",
   "metadata": {},
   "outputs": [
    {
     "name": "stdout",
     "output_type": "stream",
     "text": [
      "Thu Oct 26 14:06:04 2023       \n",
      "+---------------------------------------------------------------------------------------+\n",
      "| NVIDIA-SMI 545.84                 Driver Version: 545.84       CUDA Version: 12.3     |\n",
      "|-----------------------------------------+----------------------+----------------------+\n",
      "| GPU  Name                     TCC/WDDM  | Bus-Id        Disp.A | Volatile Uncorr. ECC |\n",
      "| Fan  Temp   Perf          Pwr:Usage/Cap |         Memory-Usage | GPU-Util  Compute M. |\n",
      "|                                         |                      |               MIG M. |\n",
      "|=========================================+======================+======================|\n",
      "|   0  NVIDIA GeForce RTX 4090      WDDM  | 00000000:01:00.0  On |                  Off |\n",
      "| 44%   32C    P8              17W / 450W |   1159MiB / 24564MiB |     10%      Default |\n",
      "|                                         |                      |                  N/A |\n",
      "+-----------------------------------------+----------------------+----------------------+\n",
      "                                                                                         \n",
      "+---------------------------------------------------------------------------------------+\n",
      "| Processes:                                                                            |\n",
      "|  GPU   GI   CI        PID   Type   Process name                            GPU Memory |\n",
      "|        ID   ID                                                             Usage      |\n",
      "|=======================================================================================|\n",
      "|    0   N/A  N/A       744    C+G   ...__8wekyb3d8bbwe\\Microsoft.Notes.exe    N/A      |\n",
      "|    0   N/A  N/A      1556    C+G   ...5n1h2txyewy\\ShellExperienceHost.exe    N/A      |\n",
      "|    0   N/A  N/A      4272    C+G   ...les\\Microsoft OneDrive\\OneDrive.exe    N/A      |\n",
      "|    0   N/A  N/A      6528    C+G   ...0_x64__8wekyb3d8bbwe\\Calculator.exe    N/A      |\n",
      "|    0   N/A  N/A      8968    C+G   ...CBS_cw5n1h2txyewy\\TextInputHost.exe    N/A      |\n",
      "|    0   N/A  N/A     12340    C+G   ...US\\ArmouryDevice\\asus_framework.exe    N/A      |\n",
      "|    0   N/A  N/A     15968    C+G   ....Search_cw5n1h2txyewy\\SearchApp.exe    N/A      |\n",
      "|    0   N/A  N/A     16000    C+G   ...oogle\\Chrome\\Application\\chrome.exe    N/A      |\n",
      "|    0   N/A  N/A     16032    C+G   ...siveControlPanel\\SystemSettings.exe    N/A      |\n",
      "|    0   N/A  N/A     16744    C+G   ...1.0_x64__8wekyb3d8bbwe\\Music.UI.exe    N/A      |\n",
      "|    0   N/A  N/A     19256    C+G   ...crosoft\\Edge\\Application\\msedge.exe    N/A      |\n",
      "|    0   N/A  N/A     19276    C+G   C:\\Windows\\explorer.exe                   N/A      |\n",
      "|    0   N/A  N/A     19976    C+G   ...2txyewy\\StartMenuExperienceHost.exe    N/A      |\n",
      "|    0   N/A  N/A     21160    C+G   ...Programs\\Microsoft VS Code\\Code.exe    N/A      |\n",
      "|    0   N/A  N/A     21616    C+G   ...t.LockApp_cw5n1h2txyewy\\LockApp.exe    N/A      |\n",
      "|    0   N/A  N/A     23264    C+G   ...ft Office\\root\\Office16\\WINWORD.EXE    N/A      |\n",
      "|    0   N/A  N/A     24856    C+G   ...t Office\\root\\Office16\\POWERPNT.EXE    N/A      |\n",
      "+---------------------------------------------------------------------------------------+\n"
     ]
    }
   ],
   "source": [
    "!nvidia-smi"
   ]
  },
  {
   "cell_type": "code",
   "execution_count": 6,
   "id": "1ef25c7a",
   "metadata": {},
   "outputs": [
    {
     "name": "stdout",
     "output_type": "stream",
     "text": [
      "2.10.0\n",
      "[name: \"/device:CPU:0\"\n",
      "device_type: \"CPU\"\n",
      "memory_limit: 268435456\n",
      "locality {\n",
      "}\n",
      "incarnation: 2966954799193082262\n",
      "xla_global_id: -1\n",
      ", name: \"/device:GPU:0\"\n",
      "device_type: \"GPU\"\n",
      "memory_limit: 22395486208\n",
      "locality {\n",
      "  bus_id: 1\n",
      "  links {\n",
      "  }\n",
      "}\n",
      "incarnation: 13977388828844299925\n",
      "physical_device_desc: \"device: 0, name: NVIDIA GeForce RTX 4090, pci bus id: 0000:01:00.0, compute capability: 8.9\"\n",
      "xla_global_id: 416903419\n",
      "]\n",
      "[PhysicalDevice(name='/physical_device:GPU:0', device_type='GPU')]\n",
      "WARNING:tensorflow:From C:\\Users\\Admin\\AppData\\Local\\Temp\\ipykernel_7944\\32622124.py:8: is_gpu_available (from tensorflow.python.framework.test_util) is deprecated and will be removed in a future version.\n",
      "Instructions for updating:\n",
      "Use `tf.config.list_physical_devices('GPU')` instead.\n",
      "[name: \"/device:CPU:0\"\n",
      "device_type: \"CPU\"\n",
      "memory_limit: 268435456\n",
      "locality {\n",
      "}\n",
      "incarnation: 16317309197956204344\n",
      "xla_global_id: -1\n",
      ", name: \"/device:GPU:0\"\n",
      "device_type: \"GPU\"\n",
      "memory_limit: 22395486208\n",
      "locality {\n",
      "  bus_id: 1\n",
      "  links {\n",
      "  }\n",
      "}\n",
      "incarnation: 10356707956405164035\n",
      "physical_device_desc: \"device: 0, name: NVIDIA GeForce RTX 4090, pci bus id: 0000:01:00.0, compute capability: 8.9\"\n",
      "xla_global_id: 416903419\n",
      "]\n"
     ]
    }
   ],
   "source": [
    "import tensorflow as tf\n",
    "from tensorflow.python.client import device_lib\n",
    "\n",
    "print(tf.__version__)\n",
    "\n",
    "print(device_lib.list_local_devices())\n",
    "print(tf.config.list_physical_devices('GPU'))\n",
    "tf.test.is_gpu_available()\n",
    "\n",
    "print(device_lib.list_local_devices())"
   ]
  },
  {
   "cell_type": "markdown",
   "id": "d9ba8fae",
   "metadata": {},
   "source": [
    "#### 00-02-02. Device Config (GPU 사용 설정)"
   ]
  },
  {
   "cell_type": "code",
   "execution_count": 7,
   "id": "697729dd",
   "metadata": {},
   "outputs": [],
   "source": [
    "import os\n",
    "os.environ[\"CUDA_VISIBLE_DEVICES\"] = \"0\"\n",
    "\n",
    "tf.debugging.set_log_device_placement(True)"
   ]
  },
  {
   "cell_type": "code",
   "execution_count": 8,
   "id": "5d68a9de",
   "metadata": {},
   "outputs": [
    {
     "name": "stdout",
     "output_type": "stream",
     "text": [
      "[PhysicalDevice(name='/physical_device:GPU:0', device_type='GPU')]\n"
     ]
    }
   ],
   "source": [
    "gpus = tf.config.list_physical_devices('GPU')\n",
    "print(gpus)\n",
    "if gpus:\n",
    "  try:\n",
    "    tf.config.experimental.set_memory_growth(gpus[0], True)\n",
    "  except RuntimeError as e:\n",
    "    # 프로그램 시작시에 메모리 증가가 설정되어야만 합니다\n",
    "    print(e)"
   ]
  },
  {
   "cell_type": "code",
   "execution_count": 9,
   "id": "c31b7a1d",
   "metadata": {},
   "outputs": [
    {
     "name": "stdout",
     "output_type": "stream",
     "text": [
      "Executing op MatMul in device /job:localhost/replica:0/task:0/device:GPU:0\n",
      "tf.Tensor(\n",
      "[[22. 28.]\n",
      " [49. 64.]], shape=(2, 2), dtype=float32)\n"
     ]
    }
   ],
   "source": [
    "with tf.device('/CPU:0'):\n",
    "  a = tf.constant([[1.0, 2.0, 3.0], [4.0, 5.0, 6.0]])\n",
    "  b = tf.constant([[1.0, 2.0], [3.0, 4.0], [5.0, 6.0]])\n",
    "\n",
    "c = tf.matmul(a, b)\n",
    "print(c)"
   ]
  },
  {
   "cell_type": "markdown",
   "id": "04c07323",
   "metadata": {},
   "source": [
    "## 01. Code"
   ]
  },
  {
   "cell_type": "markdown",
   "id": "c53bd09a",
   "metadata": {},
   "source": [
    "### 01-01. Init"
   ]
  },
  {
   "cell_type": "markdown",
   "id": "8899a07a",
   "metadata": {},
   "source": [
    "#### 01-01-01. Init_Module Import"
   ]
  },
  {
   "cell_type": "code",
   "execution_count": 10,
   "id": "139bb455",
   "metadata": {},
   "outputs": [],
   "source": [
    "## Module Import\n",
    "import os\n",
    "os.path.dirname(os.path.abspath('__file__'))\n",
    "import sys\n",
    "sys.path.append(os.path.dirname(os.path.abspath(os.path.dirname('__file__'))))\n",
    "\n",
    "import warnings\n",
    "warnings.filterwarnings('ignore')\n",
    "\n",
    "import numpy as np, pandas as pd\n",
    "from pandas import DataFrame, Series\n",
    "\n",
    "import math, random\n",
    "\n",
    "## Datetime\n",
    "import time\n",
    "import datetime as dt\n",
    "from datetime import datetime, date, timedelta\n",
    "\n",
    "import glob\n",
    "from glob import glob\n",
    "import requests\n",
    "import json\n",
    "\n",
    "## 시각화\n",
    "import seaborn as sns\n",
    "import matplotlib.pyplot as plt\n",
    "%matplotlib inline\n",
    "plt.rcParams['figure.figsize'] = [10, 8]\n",
    "\n",
    "from scipy import stats\n",
    "\n",
    "## TSNE\n",
    "from sklearn.datasets import load_digits\n",
    "from sklearn.manifold import TSNE\n",
    "\n",
    "## 정규화\n",
    "# from sklearn.preprocessing import MinMaxScaler, StandardScaler\n",
    "## Modeling, Model Training\n",
    "from sklearn.model_selection import train_test_split, KFold, GridSearchCV\n",
    "## Model 평가\n",
    "from sklearn.metrics import mean_absolute_percentage_error, mean_absolute_error, mean_squared_error, r2_score   # model.score\n",
    "\n",
    "import urllib\n",
    "from urllib.request import urlopen\n",
    "from urllib.parse import urlencode, unquote, quote_plus\n",
    "\n",
    "from selenium import webdriver\n",
    "from selenium.webdriver.chrome.service import Service\n",
    "\n",
    "from webdriver_manager.chrome import ChromeDriverManager\n",
    "from bs4 import BeautifulSoup"
   ]
  },
  {
   "cell_type": "code",
   "execution_count": 11,
   "id": "a96a649f",
   "metadata": {},
   "outputs": [],
   "source": [
    "## Init.\n",
    "pd.options.display.float_format = '{:.10f}'.format"
   ]
  },
  {
   "cell_type": "code",
   "execution_count": 12,
   "id": "59817b89",
   "metadata": {},
   "outputs": [],
   "source": [
    "## Import_Torch\n",
    "# import torch\n",
    "# import torch.nn as nn\n",
    "# from torch.nn.utils import weight_norm\n",
    "\n",
    "## Import_Tensorflow\n",
    "import tensorflow as tf\n",
    "import tensorflow_addons as tfa"
   ]
  },
  {
   "cell_type": "markdown",
   "id": "ee861c9b",
   "metadata": {},
   "source": [
    "#### 01-01-02. Init_Config (Directory, Params)"
   ]
  },
  {
   "cell_type": "code",
   "execution_count": 13,
   "id": "a45ca955",
   "metadata": {},
   "outputs": [
    {
     "name": "stdout",
     "output_type": "stream",
     "text": [
      "['.ipynb_checkpoints', 'BS_CONFIGURATION_202309251452.csv', 'DATE_1M_2023-10-20.csv', 'ENV_SENSOR_HST_202309251452.csv', 'F1_MAIN_POWER_HST_202309251503.csv', 'F1_SUB_POWER_HST_202309251510.csv', 'HEATPUMP_HST_202309251520.csv', 'KIER_ALL_561_18F.csv', 'KIER_ALL_561_1F.csv', 'KIER_ALL_562_18F.csv', 'KIER_ALL_562_1F.csv', 'KIER_ALL_563_18F.csv', 'KIER_ALL_563_1F.csv', 'KIER_ASOS_WEATHER_DAILY_202309251521.csv', 'KIER_ASOS_WEATHER_HOUR_202309251521.csv', 'KIER_ELEC_561_18F.csv', 'KIER_ELEC_561_1F.csv', 'KIER_ELEC_562_18F.csv', 'KIER_ELEC_562_1F.csv', 'KIER_ELEC_563_18F.csv', 'KIER_ELEC_563_1F.csv', 'KIER_ELEC_METER_HST_2023-10-04.csv', 'KIER_GAS_METER_HST_2023-10-04.csv', 'KIER_HEAT_561_18F.csv', 'KIER_HEAT_561_1F.csv', 'KIER_HEAT_562_18F.csv', 'KIER_HEAT_562_1F.csv', 'KIER_HEAT_563_18F.csv', 'KIER_HEAT_563_1F.csv', 'KIER_HEAT_METER_HST_2023-10-04.csv', 'KIER_HOT_561_18F.csv', 'KIER_HOT_561_1F.csv', 'KIER_HOT_562_18F.csv', 'KIER_HOT_562_1F.csv', 'KIER_HOT_563_18F.csv', 'KIER_HOT_563_1F.csv', 'KIER_HOT_METER_HST_2023-10-04.csv', 'KIER_List_Table_Column_2023-09-25.xlsx', 'KIER_Query_2023-09-25.txt', 'KIER_WATER_561_18F.csv', 'KIER_WATER_561_1F.csv', 'KIER_WATER_562_18F.csv', 'KIER_WATER_562_1F.csv', 'KIER_WATER_563_18F.csv', 'KIER_WATER_563_1F.csv', 'KIER_WATER_METER_HST_2023-10-04.csv', 'KIRE_ELEC_561_18F.csv', 'KIRE_ELEC_562_18F.csv', 'KIRE_ELEC_562_1F.csv', 'KIRE_ELEC_563_18F.csv', 'KIRE_ELEC_563_1F.csv', 'LIGHT_HST_202309251523.csv', 'MACHINE_ROOM_HEAT_HST_202309251534.csv', 'MACHINE_ROOM_POWER_APT_HST_20221205_202309251617.csv', 'MACHINE_ROOM_POWER_APT_HST_20221205_202309271337.csv', 'MACHINE_ROOM_POWER_APT_HST_202309251545.csv', 'MACHINE_ROOM_POWER_FACILITY_HST_20221205_202309251617.csv', 'MACHINE_ROOM_POWER_FACILITY_HST_202309251617.csv', 'MACHINE_ROOM_POWER_FACILITY_HST_202309271343.csv', 'MACHINE_ROOM_SENSOR_HST_202309251707.csv', 'OBS_ASOS_DD_202309251743.csv', 'OBS_ASOS_TIM_202309251743.csv', 'OFFICE_SENSOR_HST_202309251755.csv', 'SM_ELEC_METER_HST_202309251814.csv', 'SM_ELEC_METER_HST_202309271409_1.csv', 'SM_ELEC_METER_HST_202309271409_2.csv', 'SM_ELEC_METER_HST_202309271409_3.csv', 'SM_ELEC_METER_HST_202309271409_4.csv', 'SM_ELEC_METER_HST_202309271409_5.csv', 'SM_ELEC_METER_HST_RAW_202309251857.csv', 'SM_GAS_METER_HST_202309261619.csv', 'SM_GAS_METER_HST_202309271559_1.csv', 'SM_GAS_METER_HST_202309271559_2.csv', 'SM_GAS_METER_HST_202309271559_3.csv', 'SM_GAS_METER_HST_202309271559_4.csv', 'SM_GAS_METER_HST_RAW_202309251857.csv', 'SM_HEAT_METER_HST_202309261812.csv', 'SM_HEAT_METER_HST_202309271754_1.csv', 'SM_HEAT_METER_HST_202309271754_2.csv', 'SM_HEAT_METER_HST_202309271754_3.csv', 'SM_HEAT_METER_HST_202309271754_4.csv', 'SM_HEAT_METER_HST_RAW_202309251857.csv', 'SM_HOT_METER_HST_202309261651.csv', 'SM_HOT_METER_HST_202310040938_1.csv', 'SM_HOT_METER_HST_202310040938_2.csv', 'SM_HOT_METER_HST_202310040938_3.csv', 'SM_HOT_METER_HST_202310040938_4.csv', 'SM_HOT_METER_HST_202310040938_5.csv', 'SM_HOT_METER_HST_RAW_202309251857.csv', 'SM_WATER_METER_HST_202309261726.csv', 'SM_WATER_METER_HST_202310040903_1.csv', 'SM_WATER_METER_HST_202310040903_2.csv', 'SM_WATER_METER_HST_202310040903_3.csv', 'SM_WATER_METER_HST_202310040903_4.csv', 'SM_WATER_METER_HST_RAW_202309251857.csv', 'SOCAIL_DATA_RAW_202309251857.csv', 'VENTILATION_SYSTEM_HST_202309251857.csv', '[IITP] 데이터 테이블 정리 (공유 원본).docx']\n"
     ]
    }
   ],
   "source": [
    "# Define data root directory\n",
    "str_dirData = \"./KIER_EnergyUsage_2023-10-09/\"\n",
    "print(os.listdir(str_dirData))\n",
    "\n",
    "# str_fileData = \"KIER_ELEC_METER_HST_2023-10-04\""
   ]
  },
  {
   "cell_type": "code",
   "execution_count": 14,
   "id": "ea0708cf",
   "metadata": {},
   "outputs": [],
   "source": [
    "## Init_config\n",
    "SEED = 42\n",
    "\n",
    "np.random.seed(SEED)\n",
    "tf.random.set_seed(SEED)\n",
    "os.environ[\"PYTHONHASHSEED\"] = str(SEED)\n",
    "os.environ['TF_DETERMINISTIC_OPS'] = \"1\"\n",
    "random.seed(SEED)"
   ]
  },
  {
   "cell_type": "markdown",
   "id": "5b692614",
   "metadata": {},
   "source": [
    "### 01-02. Data Load (df_raw)"
   ]
  },
  {
   "cell_type": "markdown",
   "id": "598d0828",
   "metadata": {},
   "source": [
    "#### 01-02-01. KIER Data (Energy Usage)"
   ]
  },
  {
   "cell_type": "code",
   "execution_count": 15,
   "id": "9cc802e4",
   "metadata": {},
   "outputs": [],
   "source": [
    "## Define data root directory\n",
    "str_dirData = \"./KIER_EnergyUsage_2023-10-09/\"\n",
    "str_ex = \".csv\"\n",
    "\n",
    "## 동/층/호 입력\n",
    "## 동 : 561 / 562 / 563\n",
    "int_dong = 561\n",
    "## 층 : 1 / 18\n",
    "int_floor = 1\n",
    "int_ho = \"\"\n",
    "\n",
    "## Elec Data\n",
    "str_fileData_Elec = str(\"KIER_ELEC_\" + str(int_dong) + \"_\" + str(int_floor) + \"F\")\n",
    "## Heat Data\n",
    "str_fileData_Heat = str(\"KIER_HEAT_\" + str(int_dong) + \"_\" + str(int_floor) + \"F\")\n",
    "## Hot Data\n",
    "str_fileData_Hot = str(\"KIER_HOT_\" + str(int_dong) + \"_\" + str(int_floor) + \"F\")\n",
    "## Water Data\n",
    "str_fileData_Water = str(\"KIER_WATER_\" + str(int_dong) + \"_\" + str(int_floor) + \"F\")\n",
    "\n",
    "df_Energy_Elec = pd.read_csv(str_dirData + str_fileData_Elec + str_ex)\n",
    "df_Energy_Heat = pd.read_csv(str_dirData + str_fileData_Heat + str_ex)\n",
    "df_Energy_Hot = pd.read_csv(str_dirData + str_fileData_Hot + str_ex)\n",
    "df_Energy_Water = pd.read_csv(str_dirData + str_fileData_Water + str_ex)"
   ]
  },
  {
   "cell_type": "code",
   "execution_count": 16,
   "id": "7c7425cc",
   "metadata": {},
   "outputs": [],
   "source": [
    "## 임시 Code (다음에 각각 Src에서 제거할 것)\n",
    "## 아래 1분단위 Code를 수행하기 위함\n",
    "df_Energy_Elec = df_Energy_Elec.drop(columns=['ELEC_METER_DATE'], axis = 1)\n",
    "df_Energy_Heat = df_Energy_Heat.drop(columns=['HEAT_METER_DATE'], axis = 1)\n",
    "df_Energy_Hot = df_Energy_Hot.drop(columns=['HOT_METER_DATE'], axis = 1)\n",
    "df_Energy_Water = df_Energy_Water.drop(columns=['WATER_METER_DATE'], axis = 1)"
   ]
  },
  {
   "cell_type": "code",
   "execution_count": 17,
   "id": "e912fce4",
   "metadata": {},
   "outputs": [],
   "source": [
    "## 임시 Code (다음에 각각 Src에서 컬럼명 변경부여할 것)\n",
    "df_Energy_Elec = df_Energy_Elec.rename(columns={'ELEC_ACTUAL_ACCU_EFF' : str('ELEC_ACCU_' + str(int_dong) + '_' + str(int_floor) + 'F')})\n",
    "df_Energy_Heat = df_Energy_Heat.rename(columns={'HEAT_ACCU_HEAT' : str('HEAT_ACCU_' + str(int_dong) + '_' + str(int_floor) + 'F')})\n",
    "df_Energy_Hot = df_Energy_Hot.rename(columns={'HOT_ACCU_HEAT' : str('HOT_ACCU_' + str(int_dong) + '_' + str(int_floor) + 'F')})\n",
    "df_Energy_Water = df_Energy_Water.rename(columns={'WATER_ACCU_FLOW' : str('WATER_ACCU_' + str(int_dong) + '_' + str(int_floor) + 'F')})"
   ]
  },
  {
   "cell_type": "code",
   "execution_count": 18,
   "id": "dd76ced7",
   "metadata": {},
   "outputs": [
    {
     "name": "stdout",
     "output_type": "stream",
     "text": [
      "(57413, 11)\n",
      "Index(['YEAR', 'MONTH', 'DAY', 'HOUR', 'code_day_of_the_week',\n",
      "       'day_of_the_week', 'HOUSE_ID_DONG', 'HOUSE_ID_HO_PRE', 'HOUSE_ID_HO',\n",
      "       'ELEC_ACCU_561_1F', 'MINUTE'],\n",
      "      dtype='object')\n",
      "(42544, 12)\n",
      "Index(['YEAR', 'MONTH', 'DAY', 'HOUR', 'code_day_of_the_week',\n",
      "       'day_of_the_week', 'HOUSE_ID_DONG', 'HOUSE_ID_HO_PRE', 'HOUSE_ID_HO',\n",
      "       'HEAT_ACCU_561_1F', 'MINUTE', 'HEAT_INST_ACTUAL_CALC'],\n",
      "      dtype='object')\n",
      "(57383, 11)\n",
      "Index(['YEAR', 'MONTH', 'DAY', 'HOUR', 'code_day_of_the_week',\n",
      "       'day_of_the_week', 'HOUSE_ID_DONG', 'HOUSE_ID_HO_PRE', 'HOUSE_ID_HO',\n",
      "       'HOT_ACCU_561_1F', 'MINUTE'],\n",
      "      dtype='object')\n",
      "(57732, 11)\n",
      "Index(['YEAR', 'MONTH', 'DAY', 'HOUR', 'code_day_of_the_week',\n",
      "       'day_of_the_week', 'HOUSE_ID_DONG', 'HOUSE_ID_HO_PRE', 'HOUSE_ID_HO',\n",
      "       'WATER_ACCU_561_1F', 'MINUTE'],\n",
      "      dtype='object')\n"
     ]
    }
   ],
   "source": [
    "print(df_Energy_Elec.shape)\n",
    "print(df_Energy_Elec.columns)\n",
    "print(df_Energy_Heat.shape)\n",
    "print(df_Energy_Heat.columns)\n",
    "print(df_Energy_Hot.shape)\n",
    "print(df_Energy_Hot.columns)\n",
    "print(df_Energy_Water.shape)\n",
    "print(df_Energy_Water.columns)"
   ]
  },
  {
   "cell_type": "code",
   "execution_count": 20,
   "id": "42e9d4ec",
   "metadata": {},
   "outputs": [
    {
     "name": "stdout",
     "output_type": "stream",
     "text": [
      "   YEAR  MONTH  DAY  HOUR  code_day_of_the_week day_of_the_week  \\\n",
      "0  2022      7   17    23                     6          Sunday   \n",
      "1  2022      7   17    23                     6          Sunday   \n",
      "2  2022      7   17    23                     6          Sunday   \n",
      "3  2022      7   17    23                     6          Sunday   \n",
      "4  2022      7   18     0                     0          Monday   \n",
      "\n",
      "   HOUSE_ID_DONG  HOUSE_ID_HO_PRE  \\\n",
      "0            561                1   \n",
      "1            561                1   \n",
      "2            561                1   \n",
      "3            561                1   \n",
      "4            561                1   \n",
      "\n",
      "                                    HOUSE_ID_HO  WATER_ACCU_561_1F  MINUTE  \n",
      "0  NkI4M0EzNDYxQTE1MDJERjM4NURERTcyRjdGQTJDMDU=      51.8681000000      20  \n",
      "1  NkI4M0EzNDYxQTE1MDJERjM4NURERTcyRjdGQTJDMDU=      51.8681000000      30  \n",
      "2  NkI4M0EzNDYxQTE1MDJERjM4NURERTcyRjdGQTJDMDU=      51.8681000000      40  \n",
      "3  NkI4M0EzNDYxQTE1MDJERjM4NURERTcyRjdGQTJDMDU=      51.9031000000      50  \n",
      "4  NkI4M0EzNDYxQTE1MDJERjM4NURERTcyRjdGQTJDMDU=      51.9034000000       0  \n"
     ]
    }
   ],
   "source": [
    "# print(df_Energy_Elec.head(5))\n",
    "# print(df_Energy_Heat.head(5))\n",
    "# print(df_Energy_Hot.head(5))\n",
    "# print(df_Energy_Water.head(5))"
   ]
  },
  {
   "cell_type": "code",
   "execution_count": null,
   "id": "f898c3da",
   "metadata": {},
   "outputs": [],
   "source": []
  }
 ],
 "metadata": {
  "kernelspec": {
   "display_name": "Python 3 (ipykernel)",
   "language": "python",
   "name": "python3"
  },
  "language_info": {
   "codemirror_mode": {
    "name": "ipython",
    "version": 3
   },
   "file_extension": ".py",
   "mimetype": "text/x-python",
   "name": "python",
   "nbconvert_exporter": "python",
   "pygments_lexer": "ipython3",
   "version": "3.10.9"
  }
 },
 "nbformat": 4,
 "nbformat_minor": 5
}
